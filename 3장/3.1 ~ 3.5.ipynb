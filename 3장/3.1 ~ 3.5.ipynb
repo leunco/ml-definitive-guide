{
 "cells": [
  {
   "cell_type": "markdown",
   "metadata": {},
   "source": [
    "**분류의 성능 평가 지표**  \n",
    "- 정확도  \n",
    "- 오차행렬  \n",
    "- 정밀도  \n",
    "- 재현율  \n",
    "- F1 스코어  \n",
    "- ROC AUC  \n",
    "\n",
    "<br>\n",
    "\n",
    "**분류 구분**  \n",
    "1. 이진 분류 : 결정 클래스 값의 유형에 따라 긍정/부정과 같은 2개의 결괏값을 가진다.  \n",
    "2. 멀티 분류 : 여러 개의 결정 클래스 값을 가진다.  "
   ]
  },
  {
   "cell_type": "markdown",
   "metadata": {},
   "source": [
    "## 3-1. 정확도(Accuracy)  \n",
    "- 정확도는 실제 데이터에서 예측 데이터가 얼마나 같은지를 판단하는 지표이다.  \n",
    "$$정확도(Accuracy) = \\frac{예측 결과가 \\, 동일한 \\, 데이터 \\, 건수}{전체 \\, 예측 \\, 데이터 \\, 건수}$$"
   ]
  },
  {
   "cell_type": "code",
   "execution_count": 1,
   "metadata": {},
   "outputs": [],
   "source": [
    "# 성별에 따라 생존자를 예측하는 단순한 Classifier 생성\n",
    "import numpy as np\n",
    "\n",
    "# 사이킷런은 BaseEstimator를 상속받으면 Customized 형태의 Estimator 생성 가능\n",
    "from sklearn.base import BaseEstimator\n",
    "\n",
    "class MyDummyClassifier(BaseEstimator):\n",
    "    # fit( ) 메소드는 아무것도 학습하지 않음. \n",
    "    def fit(self , X , y=None):\n",
    "            pass\n",
    "    \n",
    "    # predict( ) 메소드는 단순히 Sex feature가 1 이면 0 , 그렇지 않으면 1 로 예측함. \n",
    "    def predict(self, X):\n",
    "        pred = np.zeros( ( X.shape[0] , 1))\n",
    "        for i in range (X.shape[0]) :\n",
    "            if X['Sex'].iloc[i] == 1:\n",
    "                pred[i] = 0\n",
    "            else :\n",
    "                pred[i] = 1\n",
    "        \n",
    "        return pred"
   ]
  },
  {
   "cell_type": "code",
   "execution_count": 2,
   "metadata": {},
   "outputs": [],
   "source": [
    "import pandas as pd\n",
    "from sklearn.preprocessing import LabelEncoder\n",
    "\n",
    "# Null 처리 함수\n",
    "def fillna(df):\n",
    "    df['Age'].fillna(df['Age'].mean(),inplace=True)\n",
    "    df['Cabin'].fillna('N',inplace=True)\n",
    "    df['Embarked'].fillna('N',inplace=True)\n",
    "    df['Fare'].fillna(0,inplace=True)\n",
    "    return df\n",
    "\n",
    "# 머신러닝 알고리즘에 불필요한 속성 제거\n",
    "def drop_features(df):\n",
    "    df.drop(['PassengerId','Name','Ticket'],axis=1,inplace=True)\n",
    "    return df\n",
    "\n",
    "# 레이블 인코딩 수행. \n",
    "def format_features(df):\n",
    "    df['Cabin'] = df['Cabin'].str[:1]\n",
    "    features = ['Cabin','Sex','Embarked']\n",
    "    for feature in features:\n",
    "        le = LabelEncoder()\n",
    "        le = le.fit(df[feature])\n",
    "        df[feature] = le.transform(df[feature])\n",
    "    return df\n",
    "\n",
    "# 앞에서 설정한 Data Preprocessing 함수 호출\n",
    "def transform_features(df):\n",
    "    df = fillna(df)\n",
    "    df = drop_features(df)\n",
    "    df = format_features(df)\n",
    "    return df"
   ]
  },
  {
   "cell_type": "code",
   "execution_count": 3,
   "metadata": {
    "scrolled": true
   },
   "outputs": [
    {
     "name": "stdout",
     "output_type": "stream",
     "text": [
      "Dummy Classifier의 정확도는: 0.7877\n"
     ]
    }
   ],
   "source": [
    "# MyDummyClassifier를 이용해 타이타닉 생존자 예측 수행\n",
    "import pandas as pd\n",
    "from sklearn.model_selection import train_test_split\n",
    "from sklearn.metrics import accuracy_score\n",
    "\n",
    "# 원본 데이터를 재로딩, 데이터 가공, 학습데이터/테스트 데이터 분할. \n",
    "titanic_df = pd.read_csv('./titanic_train.csv')\n",
    "y_titanic_df = titanic_df['Survived']\n",
    "X_titanic_df= titanic_df.drop('Survived', axis=1)\n",
    "X_titanic_df = transform_features(X_titanic_df)\n",
    "X_train, X_test, y_train, y_test=train_test_split(X_titanic_df, y_titanic_df,test_size=0.2, random_state=0)\n",
    "\n",
    "# 위에서 생성한 Dummy Classifier를 이용하여 학습/예측/평가 수행. \n",
    "myclf = MyDummyClassifier()\n",
    "myclf.fit(X_train ,y_train)\n",
    "\n",
    "mypredictions = myclf.predict(X_test)\n",
    "print('Dummy Classifier의 정확도는: {0:.4f}'.format(accuracy_score(y_test , mypredictions)))"
   ]
  },
  {
   "cell_type": "markdown",
   "metadata": {},
   "source": [
    "이렇게 단순한 알고리즘으로 예측을 하더라도 데이터의 구성에 따라 정확도 결과는 약 78.77%로 꽤 높은 수치가 나올 수 있기에 정확도를 평가 지표로 사용할 때는 매우 신중해야 한다. \n",
    "\n",
    "\n",
    "<u>특히 정확도는 불균형한 레이블 값 분포에서 ML 모델의 성능을 판단할 경우, 적합한 평가 지표가 아니다.</u> 예를 들어, 100개의 데이터 중 90개의 데이터 레이블이 0, 단 10개의 데이터 레이블이 1이라고 하면 무조건 0으로 예측 결과를 반환하는 ML 모델의 경우라도 정확도가 90%가 된다."
   ]
  },
  {
   "cell_type": "markdown",
   "metadata": {},
   "source": [
    "### MNIST 데이터 세트  \n",
    ": MNIST 데이터 세트를 변환해 불균형한 데이터 세트로 만든 뒤에 정확도 지표 적용 시 어떤 문제가 발생하는지?  \n",
    "\n",
    "\n",
    "- MNIST 데이터 세트는 0부터 9까지의 숫자 이미지의 픽셀 정보를 가지고 있으며, 이를 기반으로 숫자 Digit를 예측하는데 사용된다. "
   ]
  },
  {
   "cell_type": "code",
   "execution_count": 4,
   "metadata": {},
   "outputs": [],
   "source": [
    "# MNIST 데이터 셋을 multi classification에서 binary classification으로 변경\n",
    "# 레이블 7인 것만 true, 나머지 false\n",
    "\n",
    "# 불균형한 데이터 세트와 Dummy Classifier 생성\n",
    "from sklearn.datasets import load_digits\n",
    "from sklearn.model_selection import train_test_split\n",
    "from sklearn.base import BaseEstimator\n",
    "from sklearn.metrics import accuracy_score\n",
    "\n",
    "class MyFakeClassifier(BaseEstimator):\n",
    "    def fit(self,X,y):\n",
    "        pass\n",
    "\n",
    "    # 입력값으로 들어오는 X 데이터 세트의 크기만큼 모두 0값으로 만들어 반환\n",
    "    def predict(self,X):\n",
    "        return np.zeros((len(X),1),dtype=bool)\n",
    "    \n",
    "# 사이킷런의 내장 데이터 세트인 load_digits()를 이용해 MNIST 데이터 로딩\n",
    "digits = load_digits()\n",
    "\n",
    "# digits 번호가 7번이면 True이고 이를 astype(int)로 1로 변환, 7번이 아니면 Fasle이고 0으로 변환\n",
    "y = (digits.target ==7).astype(int)\n",
    "X_train, X_test, y_train, y_test = train_test_split(digits.data, y, random_state=11)"
   ]
  },
  {
   "cell_type": "code",
   "execution_count": 5,
   "metadata": {},
   "outputs": [
    {
     "name": "stdout",
     "output_type": "stream",
     "text": [
      "레이블 테스트 세트 크기 : (450,)\n",
      "테스트 세트 레이블 0과 1의 분포도\n",
      "0    405\n",
      "1     45\n",
      "dtype: int64\n",
      "모든 예측을 0으로 하여도 정확도는:0.900\n"
     ]
    }
   ],
   "source": [
    "# 불균형한 데이터로 생성한 y_test의 데이터 분포도를 확인하고, MyFakeClassifier를 이용해 예측과 평가를 수행\n",
    "\n",
    "# 분균형한 레이블 데이터 분포도 확인\n",
    "print('레이블 테스트 세트 크기 :', y_test.shape)\n",
    "print('테스트 세트 레이블 0과 1의 분포도')\n",
    "print(pd.Series(y_test).value_counts())\n",
    "\n",
    "# Dummy Classifier로 학습/예측/정확도 평가\n",
    "fakeclf = MyFakeClassifier()\n",
    "fakeclf.fit(X_train,y_train)\n",
    "fakepred = fakeclf.predict(X_test)\n",
    "print('모든 예측을 0으로 하여도 정확도는:{:.3f}'.format(accuracy_score(y_test,fakepred)))"
   ]
  },
  {
   "cell_type": "markdown",
   "metadata": {},
   "source": [
    "- 단순히 predict()의 결과를 np.zeros()로 모두 0값으로 반환함에도 불구하고 450개의 테스트 데이터 세트에 수행한 예측 정확도는 90%  \n",
    "→ 정확도 평가 지표는 불균형한 레이블 데이터 세트에서는 성능 수치로 사용돼서는 안 된다.  \n",
    "→ 이러한 한계점을 극복하기 위해 여러 가지 분류 지표와 함께 적용해야 한다."
   ]
  },
  {
   "cell_type": "markdown",
   "metadata": {},
   "source": [
    "## 3-2. 오차 행렬"
   ]
  },
  {
   "cell_type": "markdown",
   "metadata": {},
   "source": [
    "**오차행렬(confusion matrix, 혼동행렬)**  \n",
    "1. 의미  \n",
    "  - 학습된 분류 모델이 예측을 수행하면서 얼마나 헷갈리고 있는지도 함께 보여주는 지표이다.  \n",
    "=> <u>이진 분류의 예측 오류가 얼마인지와 더불어 어떠한 유형의 예측 오류가 발생하고 있는지를 함께 나타내는 지표</u>\n",
    "\n",
    "\n",
    "2. 4분면 행렬에서 실제 레이블 클래스 값과 예측 레이블 클래스 값이 어떠한 유형을 가지고 매핑되는지를 나타낸다.  \n",
    "<img src='data:image/png;base64,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'>\n",
    "\n",
    "\n",
    "- TN : 예측값을 Negative 값 0으로 예측했고 실제 값 역시 Negative 값 0   \n",
    "- FP : 예측값을 Positive 값 1로 예측했는데 실제 값은 Negative 값 0  \n",
    "- FN : 예측값을 Negative 값 0으로 예측했는데 실제 값은 Positive 값 1(Negative로 예측할 때 틀린 데이터 수)  \n",
    "- TP : 예측값을 Positive 값 1로 예측했는데 실제 값 역시 Positive 값 1  \n",
    "\n",
    "\n",
    "=>  TP, TN, FP, TN 값은 Classifier 성능의 여러 면모를 판단할 수 있는 기반 정보를 제공한다. 이 값을 조합해 Classifier의 성능을 측정할 수 있는 주요 지표인 정확도(Accuracy), 정밀도(Precision), 재현율(Recall) 값을 알 수 있다."
   ]
  },
  {
   "cell_type": "code",
   "execution_count": 6,
   "metadata": {},
   "outputs": [
    {
     "data": {
      "text/plain": [
       "array([[405,   0],\n",
       "       [ 45,   0]], dtype=int64)"
      ]
     },
     "execution_count": 6,
     "metadata": {},
     "output_type": "execute_result"
    }
   ],
   "source": [
    "# 무조건 Negative로 예측하는 Classifier였으며 테스트 데이터 세트의 클래스 값 분포는 0이 405건, 1이 45건\n",
    "\n",
    "from sklearn.metrics import confusion_matrix\n",
    "\n",
    "confusion_matrix(y_test, fakepred) "
   ]
  },
  {
   "cell_type": "markdown",
   "metadata": {},
   "source": [
    "| 분류 | 위치 | 건수 | 예측 | 실제 |\n",
    "| :-: | :-: | :-: | :-: | :-: |\n",
    "| TN | array[0,0] | 405 | Negative(7이 아닌 Digit) | Negative(7이 아닌 Digit) |\n",
    "| FP | array[0,1] | 0 | Positive(Digit 7) | Negative(7이 아닌 Digit) |\n",
    "| FN | array[1,0] | 45 | Negative(7이 아닌 Digit) | Positive(Digit 7) |\n",
    "| TP | array[1,1] | 0 | Positive(Digit 7) | Positive(Digit 7) |"
   ]
  },
  {
   "cell_type": "markdown",
   "metadata": {},
   "source": [
    "정확도는 예측값과 실제 값이 얼마나 동일한 가에 대한 비율만으로 결정된다. 즉, 오차 행렬에서 True에 해당하는 값인 TN과 TP에 좌우된다.  \n",
    "→ **정확도  = 예측 결과와 실제 값이 동일한 건수 / 전체 데이터 수 = (TN+TP)/(TN+FP+FN+TP)**  \n",
    "\n",
    "----\n",
    "불균형한 이진 분류 데이터 세트에서는 Positive 데이터 건수가 매우 작기 때문에 데이터에 기반한 ML 알고리즘은 Positive보다는 Negative로 예측 정확도가 높아지는 경향이 발생한다.  => TN ↑, TP ↓, FN ↓, FP ↓\n",
    "\n",
    "\n",
    "결과적으로 정확도 지표는 비대칭한 데이터 세트에서 Positive에 대한 예측 정확도를 판단하지 못한 채 Negative에 대한 예측 정확도만으로도 분류의 정확도가 매우 높게 나타나는 수치적인 판단 오류를 일으키게 된다.  "
   ]
  },
  {
   "cell_type": "markdown",
   "metadata": {},
   "source": [
    "## 3-3. 정밀도와 재현율"
   ]
  },
  {
   "cell_type": "markdown",
   "metadata": {},
   "source": [
    ": 정밀도와 재현율은 Positive 데이터 세트의 예측 성능에 좀 더 초점을 맞춘 평가 지표이다.  \n",
    "\n",
    "\n",
    "- 정밀도 = TP / (FP + TP)  \n",
    "- 재현율 = TP / (FN + TP)  \n",
    "→ 재현율과 정밀도 모두 TP를 높이는 데 동일하게 초점을 맞추지만, 재현율은 FN를 낮추는데, 정밀도는 FP를 낮추는데 초점을 맞춘다.  \n",
    "→ 재현율과 정밀도는 서로 보완적인 지표로 분류의 성능을 평가하는 데 적용된다.  \n",
    "\n",
    "\n",
    "1. 정밀도  \n",
    "  - <u>**예측**을 Positive로 한 대상 중에 예측과 실제 값이 Positive로 일치한 데이터의 비율</u>로, Positive 예측 성능을 더욱 정밀하게 측정하기 위한 평가 지표로 양성 예측도라고도 불린다.  \n",
    "  - 공식의 분모인 FP + TP : 예측을 Positive로 한 모든 데이터 건수  \n",
    "  - 공식의 분자인 TP : 예측과 실제 값이 Positive로 일치한 데이터 건수  \n",
    "\n",
    "\n",
    "2. 재현율  \n",
    "  - <u>**실제 값**이 Positive인 대상 중에 예측과 실제 값이 Positive로 일치한 데이터의 비율</u>로, 민감도(Sensitivity) 또는 TPR(True Positive Rate)라고도 불린다.  \n",
    "  - 공식의 분모인 FN + TP : 실제 값이 Positive인 모든 데이터 건수  \n",
    "  - 공식의 분자인 TP : 예측과 실제 값이 Positive로 일치한 데이터 건수  \n",
    "  \n",
    "  \n",
    "3. 정밀도와 재현율 지표 중에 이진 분류 모델의 업무 특성에 따라 특정 평가 지표가 더 중요한 지표로 간주될 수 있다.  \n",
    "  - **재현율이 상대적으로 더 중요한 지표인 경우는 실제 Positive 양성인 데이터 예측을 Negative로 잘못 판단하게 되면 업무상 큰 영향이 발생하는 경우 (ex. 암 판단 모델)**  \n",
    "  - 정밀도가 상대적으로 더 중요한 지표인 경우는 실제 Negative 음성인 데이터 예측을 Positive 양성으로 잘못 판단하게 되면 업무상 큰 영향이 발생하는 경우 (ex. 스팸 메일 여부 판단)"
   ]
  },
  {
   "cell_type": "code",
   "execution_count": 7,
   "metadata": {},
   "outputs": [],
   "source": [
    "# precision_score() : 정밀도 계산, recall_score() : 재현율 계산\n",
    "# confusion matrix, accuracy, precision, recall 등의 평가를 한꺼번에 호출하는 get_clf_eval() 함수\n",
    "\n",
    "from sklearn.metrics import accuracy_score, precision_score, recall_score, confusion_matrix\n",
    "\n",
    "def get_clf_eval(y_test, pred):\n",
    "    confusion = confusion_matrix(y_test, pred)\n",
    "    accuracy = accuracy_score(y_test, pred)\n",
    "    precision = precision_score(y_test, pred)\n",
    "    recall = recall_score(y_test, pred)\n",
    "    print('오차 행렬')\n",
    "    print(confusion)\n",
    "    print('정확도: {0:.4f}, 정밀도: {1:.4f}, 재현율: {2:.4f}'.format(accuracy, precision, recall))"
   ]
  },
  {
   "cell_type": "code",
   "execution_count": 8,
   "metadata": {},
   "outputs": [
    {
     "name": "stderr",
     "output_type": "stream",
     "text": [
      "C:\\Users\\dldms\\Anaconda3\\lib\\site-packages\\sklearn\\linear_model\\logistic.py:432: FutureWarning: Default solver will be changed to 'lbfgs' in 0.22. Specify a solver to silence this warning.\n",
      "  FutureWarning)\n"
     ]
    },
    {
     "name": "stdout",
     "output_type": "stream",
     "text": [
      "오차 행렬\n",
      "[[108  10]\n",
      " [ 14  47]]\n",
      "정확도: 0.8659, 정밀도: 0.8246, 재현율: 0.7705\n"
     ]
    }
   ],
   "source": [
    "# 로지스틱 회귀 기반으로 타이타닉 생존자를 예측하고 confusion matrix, accuracy, precision, recall 평가 수행\n",
    "import pandas as pd\n",
    "from sklearn.model_selection import train_test_split\n",
    "from sklearn.linear_model import LogisticRegression\n",
    "\n",
    "# 원본 데이터를 재로딩, 데이터 가공, 학습 데이터/테스트 데이터 분할\n",
    "titanic_df = pd.read_csv('./titanic_train.csv')\n",
    "y_titanic_df = titanic_df['Survived']\n",
    "X_titanic_df = titanic_df.drop('Survived',axis=1)\n",
    "X_titanic_df = transform_features(X_titanic_df) # 앞에 있는 함수\n",
    "\n",
    "X_train, X_test, y_train, y_test = train_test_split(X_titanic_df, y_titanic_df, test_size=0.20, random_state=11)\n",
    "\n",
    "lr_clf = LogisticRegression()\n",
    "\n",
    "lr_clf.fit(X_train, y_train)\n",
    "pred = lr_clf.predict(X_test)\n",
    "get_clf_eval(y_test, pred)"
   ]
  },
  {
   "cell_type": "markdown",
   "metadata": {},
   "source": [
    "- 정밀도에 비해 재현율이 낮게 나왔다"
   ]
  },
  {
   "cell_type": "markdown",
   "metadata": {},
   "source": [
    "### 정밀도/재현율 트레이드오프"
   ]
  },
  {
   "cell_type": "markdown",
   "metadata": {},
   "source": [
    "분류하려는 업무의 특성상 정밀도 또는 재현율이 특별히 강조돼야 할 경우 분류의 결정 임계값(Threshold)을 조정해 정밀도 또는 재현율의 수치를 높일 수 있지만, 어느 한쪽을 강제로 높이면 다른 하나의 수치는 떨어지기 쉽다. 이를 정밀도/재현율의 트레이드오프(Trade-off)라고 부른다.  \n",
    "<br>\n",
    "\n",
    "**사이킷런의 분류 알고리즘**  \n",
    "1. 예측 데이터가 특정 레이블(Label, 결정 클래스 값)에 속하는지를 계산하기 위해 먼저 개별 레이블별로 결정 확률을 구한다.  \n",
    "2. 예측 확률이 큰 레이블 값으로 예측  \n",
    "  ex. 이진 분류 모델에서 특정 데이터가 0이 될 확률이 10%, 1이 될 확률이 90%로 예측됐다면 최종 예측은 더 큰 확률을 가진, 즉 90% 확률을 가진 1로 예측\n",
    "  => 일반적으로 이진 분류에서는 이 임계값을 0.5로 정해 이 값보다 확률이 크면 Positive, 작으면 Negative로 결정    \n",
    "<br> \n",
    "\n",
    "**predict_proba()**  \n",
    ": 개별 데이터별로 예측 확률을 반환\n",
    "- 학습이 완료된 사이킷런 Classifier 객체에서 호출이 가능하며 <u>테스트 피처 데이터 세트를 파라미터로 입력해주면 테스트 피처 레코드의 개별 클래스 예측 확률을 반환한다.</u>  \n",
    "- predict()와 유사하지만 단지 반환 결과가 예측 결과 클래스 값이 아닌 예측 확률 결과이다. 반환결과는 개별 클래스의 예측 확률로 ndarray n * m (m: 입력 값의 레코드 수, n: 클래스 값 유형) 형태이다.    \n",
    "- 각 열은 개별 클래스의 예측확률이다. 이진 분류에서 첫 번째 칼럼은 0 Negative의 확률, 두 번째 칼럼은 1 Positive의 확률이다.  "
   ]
  },
  {
   "cell_type": "code",
   "execution_count": 12,
   "metadata": {},
   "outputs": [
    {
     "name": "stdout",
     "output_type": "stream",
     "text": [
      "pred_proba()결과 Shape : (179, 2)\n",
      "pred_proba array에서 앞 3개만 샘플로 추출\n",
      ": [[0.44935228 0.55064772]\n",
      " [0.86335513 0.13664487]\n",
      " [0.86429645 0.13570355]]\n",
      "두 개의 class 중에서 더 큰 확률을 클래스 값으로 예측 \n",
      " [[0.44935228 0.55064772 1.        ]\n",
      " [0.86335513 0.13664487 0.        ]\n",
      " [0.86429645 0.13570355 0.        ]]\n"
     ]
    }
   ],
   "source": [
    "# LogisiticRegression 객체에서 predict_proba() 메서드를 수행한 뒤 반환 값을 확인\n",
    "# predict() 메서드의 결과와 비교\n",
    "\n",
    "pred_proba = lr_clf.predict_proba(X_test)\n",
    "pred = lr_clf.predict(X_test)\n",
    "print('pred_proba()결과 Shape : {0}'.format(pred_proba.shape))\n",
    "print('pred_proba array에서 앞 3개만 샘플로 추출\\n:',pred_proba[:3])\n",
    "\n",
    "# 예측 확률 array와 예측 결과값 array를 병합해 예측 확률과 결과값을 한눈에 확인\n",
    "pred_proba_result = np.concatenate([pred_proba,pred.reshape(-1,1)],axis=1) # 벼합\n",
    "print('두 개의 class 중에서 더 큰 확률을 클래스 값으로 예측 \\n',pred_proba_result[:3])"
   ]
  },
  {
   "cell_type": "markdown",
   "metadata": {},
   "source": [
    "- 반환 결과인 ndarray는 0과 1에 대한 확률을 나타내므로 첫번째 칼럼값 + 두번째 칼럼값 = 1  \n",
    "- predict()는 predict_proba() 호출 결과로 반환된 배열에서 분류 결정 임계값보다 큰 값이 들어 있는 칼럼의 위치를 받아 최종적으로 예측 클래스를 결정한다."
   ]
  },
  {
   "cell_type": "code",
   "execution_count": 13,
   "metadata": {},
   "outputs": [
    {
     "name": "stdout",
     "output_type": "stream",
     "text": [
      "[[0. 0. 1.]\n",
      " [1. 0. 0.]\n",
      " [0. 0. 1.]]\n"
     ]
    }
   ],
   "source": [
    "from sklearn.preprocessing import Binarizer\n",
    "\n",
    "X = [[1,-1,2],\n",
    "    [2,0,0],\n",
    "    [0,1.1,1.2]]\n",
    "\n",
    "# X의 개별 원소들이 threshold값(1.1)보다 같거나 작으면 0을, 크면 1을 반환\n",
    "binarizer = Binarizer(threshold = 1.1)\n",
    "print(binarizer.fit_transform(X))"
   ]
  },
  {
   "cell_type": "code",
   "execution_count": 14,
   "metadata": {},
   "outputs": [
    {
     "name": "stdout",
     "output_type": "stream",
     "text": [
      "오차 행렬\n",
      "[[108  10]\n",
      " [ 14  47]]\n",
      "정확도: 0.8659, 정밀도: 0.8246, 재현율: 0.7705\n"
     ]
    }
   ],
   "source": [
    "from sklearn.preprocessing import Binarizer\n",
    "\n",
    "# Binarizer의 threshold 설정값, 분류 결정 임곗값임\n",
    "custom_threshold = 0.5\n",
    "\n",
    "# Predict_proba() 반환값의 두 번째 칼럼, 즉 Positive 클래스 칼럼 하나만 추출해 Binarizer를 적용\n",
    "pred_proba_1 = pred_proba[:,1].reshape(-1,1)\n",
    "\n",
    "binarizer = Binarizer(threshold=custom_threshold).fit(pred_proba_1)\n",
    "custom_predict = binarizer.transform(pred_proba_1)\n",
    "\n",
    "get_clf_eval(y_test, custom_predict) # confusion matrix, accuracy, precision, recall 등의 평가를 한꺼번에 호출(앞에서 정의)"
   ]
  },
  {
   "cell_type": "markdown",
   "metadata": {},
   "source": [
    "- 앞 예제의 타이타닉 데이터로 학습된 로지스틱 회귀 Classifier 객체에서 호출된 predict()로 계산된 지표 값과 정확히 같다. predict()가 predict_proba()에 기반함을 알 수 있다.  "
   ]
  },
  {
   "cell_type": "code",
   "execution_count": 15,
   "metadata": {},
   "outputs": [
    {
     "name": "stdout",
     "output_type": "stream",
     "text": [
      "오차 행렬\n",
      "[[97 21]\n",
      " [11 50]]\n",
      "정확도: 0.8212, 정밀도: 0.7042, 재현율: 0.8197\n"
     ]
    }
   ],
   "source": [
    "# Binarizer의 threshold 설정값을 0.4로 설정(분류 결정 임계값 : 0.5 -> 0.4)\n",
    "custom_threshold = 0.4\n",
    "pred_proba_1 = pred_proba[:,1].reshape(-1,1)\n",
    "binarizer = Binarizer(threshold=custom_threshold).fit(pred_proba_1)\n",
    "custom_predict = binarizer.transform(pred_proba_1)\n",
    "\n",
    "get_clf_eval(y_test, custom_predict)"
   ]
  },
  {
   "cell_type": "markdown",
   "metadata": {},
   "source": [
    "- 임계값을 낮추니 재현율 ↑, 정밀도 ↓  \n",
    "    - 분류 결정 임계값은 Positive 예측값을 결정하는 확률의 기준이 된다.  \n",
    "    - 확률이 0.5가 아닌 0.4부터 Positive로 예측을 더 너그럽게 하기 때문에 임곗값 값을 낮출수록 True 값이 많아진다.  \n",
    "    - Positive 예측값이 많아지면 상대적으로 재현율 값이 높아진다. 양성 예측을 많이 하다 보니 실제 양성을 음성으로 예측하는 횟수가 상대적으로 줄어들기 때문이다.     \n",
    "=> <u>분류 결정 임계값이 낮아질수록 Positive로 예측할 확률이 높아진다.</u>\n",
    "    \n",
    "\n",
    "| 임계값 0.5일 때 오차 행렬 |  |   \n",
    "| :-: | :-: | \n",
    "| TN(108) | FP(10) |\n",
    "| FN(14) | TP(47) | \n",
    "\n",
    "| 임계값 0.4일 때 오차 행렬 |  | \n",
    "| :-: | :-: | \n",
    "| TN(97) | FP(21) |\n",
    "| FN(11) | TP(50) |   \n",
    "\n",
    "\n",
    "- 재현율 : 0.770 → 0.820  \n",
    "    - TP : 47 → 50  \n",
    "    - FN : 14 → 11\n",
    "    \n",
    "    \n",
    "- 정밀도 : 0.825 → 0.704, 정확도 : 0.866 → 0.821  \n",
    "    - FP : 10 → 21  "
   ]
  },
  {
   "cell_type": "code",
   "execution_count": 16,
   "metadata": {},
   "outputs": [
    {
     "name": "stdout",
     "output_type": "stream",
     "text": [
      "임곗값: 0.4\n",
      "오차 행렬\n",
      "[[97 21]\n",
      " [11 50]]\n",
      "정확도: 0.8212, 정밀도: 0.7042, 재현율: 0.8197\n",
      "임곗값: 0.45\n",
      "오차 행렬\n",
      "[[105  13]\n",
      " [ 13  48]]\n",
      "정확도: 0.8547, 정밀도: 0.7869, 재현율: 0.7869\n",
      "임곗값: 0.5\n",
      "오차 행렬\n",
      "[[108  10]\n",
      " [ 14  47]]\n",
      "정확도: 0.8659, 정밀도: 0.8246, 재현율: 0.7705\n",
      "임곗값: 0.55\n",
      "오차 행렬\n",
      "[[111   7]\n",
      " [ 16  45]]\n",
      "정확도: 0.8715, 정밀도: 0.8654, 재현율: 0.7377\n",
      "임곗값: 0.6\n",
      "오차 행렬\n",
      "[[113   5]\n",
      " [ 17  44]]\n",
      "정확도: 0.8771, 정밀도: 0.8980, 재현율: 0.7213\n"
     ]
    }
   ],
   "source": [
    "# 테스트를 수행할 모든 임계값을 리스트 객체로 저장\n",
    "thresholds = [0.4, 0.45, 0.50, 0.55, 0.60]\n",
    "\n",
    "def get_eval_by_threshold(y_test, pred_proba_c1, thresholds):\n",
    "    # thresholds list 객체 내의 값을 차례로 iteration하면서 Evaluation 수행\n",
    "    for custom_threshold in thresholds:\n",
    "        binarizer = Binarizer(threshold=custom_threshold).fit(pred_proba_c1)\n",
    "        custom_predict = binarizer.transform(pred_proba_c1)\n",
    "        print('임곗값:',custom_threshold)\n",
    "        get_clf_eval(y_test, custom_predict)\n",
    "\n",
    "get_eval_by_threshold(y_test, pred_proba[:,1].reshape(-1,1),thresholds) # 임계값 0.45가 적당"
   ]
  },
  {
   "cell_type": "markdown",
   "metadata": {},
   "source": [
    "**precision_recall_curve()**  \n",
    "1. 입력 파라미터  \n",
    "    - y_true: 실제 클래스값 배열(배열크기 = [데이터 건수])  \n",
    "    - probas_pred : Positive 칼럼의 예측 확률 배열 (배열크기 = [데이터 건수])  \n",
    "\n",
    "\n",
    "2. 반환값  \n",
    "    - 정밀도(precision) : 임곗값별 정밀도 값을 배열로 반환  \n",
    "    - 재현율(recall) : 임곗값별 재현율 값을 배열로 반환  \n",
    "    \n",
    "\n",
    "3. 일반적으로 0.11 ~ 0.95 정도의 임곗값을 담은 넘파이 ndarray와 이 임곗값에 해당하는 정밀도 및 재현율 값을 담은 넘파이 ndarray를 반환  "
   ]
  },
  {
   "cell_type": "code",
   "execution_count": 20,
   "metadata": {},
   "outputs": [
    {
     "name": "stdout",
     "output_type": "stream",
     "text": [
      "반환된 분류 결정 임곗값 배열의 Shape: (147,)\n",
      "샘플 추출을 위한 임계값 배열의 index 10개: [  0  15  30  45  60  75  90 105 120 135]\n",
      "샘플용 10개의 임곗값: [0.12 0.13 0.15 0.17 0.26 0.38 0.49 0.63 0.76 0.9 ]\n",
      "샘플 임계값별 정밀도:  [0.379 0.424 0.455 0.519 0.618 0.676 0.797 0.93  0.964 1.   ]\n",
      "샘플 임계값별 재현율:  [1.    0.967 0.902 0.902 0.902 0.82  0.77  0.656 0.443 0.213]\n"
     ]
    }
   ],
   "source": [
    "from sklearn.metrics import precision_recall_curve\n",
    "\n",
    "# 레이블 값이 1일 때의 예측 확률을 추출 \n",
    "pred_proba_class1 = lr_clf.predict_proba(X_test)[:,1]\n",
    "\n",
    "# 실제값 데이터 세트와 레이블 값이 1일 때의 예측 확률을 precision_recall_curve 인자로 입력\n",
    "precisions, recalls, thresholds = precision_recall_curve(y_test, pred_proba_class1)\n",
    "print('반환된 분류 결정 임곗값 배열의 Shape:',thresholds.shape)\n",
    "\n",
    "# 반환된 임계값 배열 로우가 147건이므로 샘플로 10건만 추출하되, 임곗값을 15 Step으로 추출\n",
    "thr_index = np.arange(0, thresholds.shape[0],15) # 0부터 15씩 차이나도록 \n",
    "print('샘플 추출을 위한 임계값 배열의 index 10개:',thr_index)\n",
    "print('샘플용 10개의 임곗값:',np.round(thresholds[thr_index],2))\n",
    "\n",
    "# 15 step 단위로 추출된 임계값에 따른 정밀도와 재현율 값\n",
    "print('샘플 임계값별 정밀도: ',np.round(precisions[thr_index],3)) # 정밀도\n",
    "print('샘플 임계값별 재현율: ',np.round(recalls[thr_index],3)) # 재현율"
   ]
  },
  {
   "cell_type": "code",
   "execution_count": 22,
   "metadata": {},
   "outputs": [
    {
     "data": {
      "image/png": "[encoded data removed]",
      "text/plain": [
       "<Figure size 576x432 with 1 Axes>"
      ]
     },
     "metadata": {
      "needs_background": "light"
     },
     "output_type": "display_data"
    }
   ],
   "source": [
    "# 정밀도와 재현율의 임곗값에 따른 값 변화를 곡선 형태의 그래프로 시각화하는데 이용\n",
    "import matplotlib.pyplot as plt\n",
    "import matplotlib.ticker as ticker\n",
    "%matplotlib inline\n",
    "\n",
    "def precision_recall_curve_plot(y_test, pred_proba_c1):\n",
    "    # threshold ndarray와 이 threshold에 따르 정밀도, 재현율 ndarray 추출\n",
    "    precisions, recalls, thresholds = precision_recall_curve(y_test, pred_proba_c1)\n",
    "    \n",
    "    # X축을 threshold값으로, Y축은 정밀도, 재현율 값으로 각각 Plot 수행. 정밀도는 점선으로 표시\n",
    "    plt.figure(figsize=(8,6))\n",
    "    threshold_boundary = thresholds.shape[0]\n",
    "    plt.plot(thresholds, precisions[0:threshold_boundary],linestyle='--',label='precision')\n",
    "    plt.plot(thresholds, recalls[0:threshold_boundary],label='recall')\n",
    "    \n",
    "    # threshold 값 X 축의 Scale을 0.1 단위로 변경\n",
    "    start, end = plt.xlim()\n",
    "    plt.xticks(np.round(np.arange(start, end, 0.1),2))\n",
    "    \n",
    "    # x축, y축 label과 legend, 그리고 grid 설정\n",
    "    plt.xlabel('Threshold value'); plt.ylabel('Precision and Recall value')\n",
    "    plt.legend(); plt.grid()\n",
    "    plt.show()\n",
    "\n",
    "precision_recall_curve_plot(y_test,lr_clf.predict_proba(X_test)[:,1])"
   ]
  },
  {
   "cell_type": "markdown",
   "metadata": {},
   "source": [
    "- 정밀도는 점선으로 재현율은 실선으로 표현  \n",
    "- 임곗값이 낮을수록 많은 수의 양성 예측으로 인해 재현율 값이 극도로 높아지고 정밀도 값이 극도로 낮아진다.  \n",
    "- 임계값을 계속 증가시킬수록 재현율 값이 낮아지고 정밀도 값이 높아지는 반대의 양상이 된다.  "
   ]
  },
  {
   "cell_type": "markdown",
   "metadata": {},
   "source": [
    "### 정밀도와 재현율의 맹점"
   ]
  },
  {
   "cell_type": "markdown",
   "metadata": {},
   "source": [
    "**정밀도가 100%가 되는 방법**  \n",
    "- 확실한 기준이 되는 경우만 Positive로 예측하고 나머지는 모두 Negative로 예측한다.  \n",
    "- 정밀도 = TP / (TP + FP)  \n",
    "ex. 전체 환자가 1000명 중 확실한 Positive 징후만 가진 환자는 단 1명이라고 하면 이 한 명만 Positive 징후만 가진 환자는 단 1명이라고 하면 이 한 명만 Positive로 예측하고 나머지는 모두 Negative로 예측하더라도 FP는 0, TP는 1이 되므로 정밀도는 1/(1+0)으로 100%가 된다.  \n",
    "\n",
    "\n",
    "**재현율이 100%가 되는 방법**  \n",
    "- 모든 환자를 Positive로 예측하면 된다.  \n",
    "- 재현율 = TP / (TP + FN)  \n",
    "ex. 전체 환자가 1000명을 다 Positive로 예측한다. 이 중 실제 양성인 사람이 30명 정도라도 TN이 수치에 포함되지 않고 FN은 아예 0이므로 30/(30+0)으로 100%가 된다.  \n",
    "\n",
    "\n",
    "=> 위와 같은 상황이 돼서는 안 되고 정밀도와 재현율의 수치가 적절하게 조합돼 분류의 종합적인 성능 평가에 사용될 수 있는 평가 지표가 필요하다."
   ]
  },
  {
   "cell_type": "markdown",
   "metadata": {},
   "source": [
    "## 3-4. F1 스코어"
   ]
  },
  {
   "cell_type": "markdown",
   "metadata": {},
   "source": [
    "F1 스코어(Score)는 정밀도와 재현율을 결합한 지표이다. <u>F1 스코어는 정밀도와 재현율이 어느 한 쪽으로 치우치지 않는 수치를 나타낼 때 상대적으로 높은 값을 가진다.</u>  \n",
    "\n",
    "$$F1 = \\frac{2}{ \\frac{1}{recall}+ \\frac{1}{precision}} = 2 * \\frac{precision*recall}{precision+recall}$$"
   ]
  },
  {
   "cell_type": "code",
   "execution_count": 28,
   "metadata": {},
   "outputs": [
    {
     "name": "stdout",
     "output_type": "stream",
     "text": [
      "F1 스코어: 0.7966\n"
     ]
    }
   ],
   "source": [
    "from sklearn.metrics import f1_score\n",
    "f1 = f1_score(y_test, pred)\n",
    "print('F1 스코어: {0:.4f}'.format(f1))"
   ]
  },
  {
   "cell_type": "code",
   "execution_count": 30,
   "metadata": {},
   "outputs": [
    {
     "name": "stdout",
     "output_type": "stream",
     "text": [
      "임곗값: 0.4\n",
      "오차 행렬\n",
      "[[97 21]\n",
      " [11 50]]\n",
      "정확도: 0.8212, 정밀도: 0.7042, 재현율: 0.8197, F1:0.7576\n",
      "임곗값: 0.45\n",
      "오차 행렬\n",
      "[[105  13]\n",
      " [ 13  48]]\n",
      "정확도: 0.8547, 정밀도: 0.7869, 재현율: 0.7869, F1:0.7869\n",
      "임곗값: 0.5\n",
      "오차 행렬\n",
      "[[108  10]\n",
      " [ 14  47]]\n",
      "정확도: 0.8659, 정밀도: 0.8246, 재현율: 0.7705, F1:0.7966\n",
      "임곗값: 0.55\n",
      "오차 행렬\n",
      "[[111   7]\n",
      " [ 16  45]]\n",
      "정확도: 0.8715, 정밀도: 0.8654, 재현율: 0.7377, F1:0.7965\n",
      "임곗값: 0.6\n",
      "오차 행렬\n",
      "[[113   5]\n",
      " [ 17  44]]\n",
      "정확도: 0.8771, 정밀도: 0.8980, 재현율: 0.7213, F1:0.8000\n"
     ]
    }
   ],
   "source": [
    "# 타이타닉 생존자 예측에서 임계값을 변화시키면서 F1 스코어를 포함한 평가지표 구하기\n",
    "\n",
    "def get_clf_eval(y_test, pred):\n",
    "    confusion = confusion_matrix(y_test, pred)\n",
    "    accuracy = accuracy_score(y_test, pred)\n",
    "    precision = precision_score(y_test, pred)\n",
    "    recall = recall_score(y_test, pred)\n",
    "    \n",
    "    # F1 스코어 추가\n",
    "    f1 = f1_score(y_test, pred)\n",
    "    print('오차 행렬')\n",
    "    print(confusion)\n",
    "    \n",
    "    # f1 score print 추가\n",
    "    print('정확도: {0:.4f}, 정밀도: {1:.4f}, 재현율: {2:.4f}, F1:{3:.4f}'.format(accuracy,precision,recall,f1))\n",
    "    \n",
    "thresholds = [0.4, 0.45, 0.50, 0.55, 0.60]\n",
    "pred_proba = lr_clf.predict_proba(X_test)\n",
    "get_eval_by_threshold(y_test,pred_proba[:,1].reshape(-1,1),thresholds)"
   ]
  },
  {
   "cell_type": "markdown",
   "metadata": {},
   "source": [
    "- F1 스코어는 임곗값이 0.6일때 가장 좋지만 재현율이 크게 감소하고 있어 주의해야 한다."
   ]
  },
  {
   "cell_type": "markdown",
   "metadata": {},
   "source": [
    "## 3-5. ROC 곡선과 AUC"
   ]
  },
  {
   "cell_type": "markdown",
   "metadata": {},
   "source": [
    "ROC 곡선과 이에 기반한 AUC 스코어는 이진 분류의 예측 성능 측정에서 중요하게 사용되는 지표이다. \n",
    "\n",
    "<br>\n",
    "\n",
    "**ROC 곡선(Receiver Operation Characteristic Curve)**\n",
    "- 우리말로 수신자 판단 곡선으로 불린다.  \n",
    "- <u>ROC 곡선은 FPR(False Positive Rate)이 변할 때 TPR(Ture Positive Rate)이 어떻게 변하는지를 나타내는 곡선이다.</u> FPR을 X축으로, TPR을 Y축으로 잡으면 FPR의 변화에 따르 TPR의 변화가 곡선 형태로 나타난다.  \n",
    "\n",
    "\n",
    "**TPR(=재현율, 민감도)**  \n",
    "- Ture Positive Rate의 약자이며, 재현율을 나타낸다.  \n",
    "- 따라서 TPR은 TP / (FN + TP)이다.\n",
    "\n",
    "\n",
    "**TNR(=특이성)**  \n",
    "- True Negative Rate의 약자이며 특이성을 나타낸다.  \n",
    "- TNR = TN  / (FP + TN)  \n",
    "\n",
    "\n",
    "**FPR(False Positive Rate)**  \n",
    "- ROC 곡선의 X 축 기준  \n",
    "- FPR = FP / (FP + TN) = 1 - TNR = 1 - 특이성  \n",
    "\n",
    "---\n",
    "=> 민감도(TPR)은 실제값 Positive(양성)가 정확히 예측돼야 하는 수준을 나타낸다.(ex. 질병이 있는 사람은 질병이 있는 것으로 양성 판정)  \n",
    "=> 특이성(TNR)은 실제값 Negative(음성)가 정확히 예측돼야 하는 수준을 나타낸다.(ex. 질병이 없는 건강한 사람은 질병이 없는 것으로 음성 판정)   \n",
    "\n",
    "---"
   ]
  },
  {
   "cell_type": "markdown",
   "metadata": {},
   "source": [
    "**ROC 곡선**  \n",
    "- ROC 곡선은 FPR을 0부터 1까지 변경하면서 TPR의 변화 값을 구한다.  \n",
    "\n",
    "\n",
    "Q. FPR을 0부터 1까지 어떻게 변경하는지?  \n",
    "A. 분류 결정 임계값(Positive 예측값을 결정하는 확률의 기준)을 변경\n",
    "\n",
    "\n",
    "1. FPR = 0으로 만들려면  \n",
    "    - 임계값을 1로 지정  \n",
    "    -> Positive 예측 기준이 매우 높기 때문에 분류기(Classifier)가 임곗값보다 높은 확률을 가진 데이터를 Positive로 예측할 수 없다.  \n",
    "    => 아예 Positive로 예측하지 않기 때문에 FP 값이 0이 되므로 FPR은 0이 된다.  \n",
    "\n",
    "\n",
    "2. FPR = 1로 만들려면  \n",
    "    - 임계값을 0으로 지정    \n",
    "    -> TN을 0으로 만듦  \n",
    "    -> 분류기의 Positive 확률 기준이 너무 낮아 다 Positive로 예측  \n",
    "    -> Negative 예측이 없어 TN이 0이되고 FPR은 1이된다.  \n",
    "    \n",
    "    \n",
    "=> 임계값을 1부터 0까지 변화시키면서 FPR을 구하고 이 FPR 값의 변화에 따른 TPR 값을 구하는 것이 ROC 곡선이다.    \n",
    "\n",
    "\n",
    "**roc_curve()**  \n",
    "1. 입력 파라미터  \n",
    "  - y_true : 실제 클래스 값 array (array shape = [데이터 건수])  \n",
    "  - y_score : predict_prob()의 반환 값 array에서 Positive 칼럼의 예측 확률이 보통 사용됨. arrray, shape = [n_samples]  \n",
    "\n",
    "\n",
    "2. 반환값  \n",
    "  - fpr : fpr 값을 array로 반환  \n",
    "  - tpr : tpr 값을 array로 반환  \n",
    "  - thresholds : threshold 값 array  "
   ]
  },
  {
   "cell_type": "code",
   "execution_count": 31,
   "metadata": {},
   "outputs": [
    {
     "name": "stdout",
     "output_type": "stream",
     "text": [
      "샘플 추출을 위한 임계값 배열의 index 10개:  [ 0  5 10 15 20 25 30 35 40 45]\n",
      "샘플용 10개의 임계값:  [1.94 0.87 0.63 0.55 0.44 0.32 0.15 0.14 0.13 0.12]\n",
      "샘플 임계값별 FPR:  [0.    0.008 0.025 0.059 0.127 0.203 0.559 0.602 0.695 0.847]\n",
      "샘플 임계값별 TPR:  [0.    0.246 0.672 0.738 0.787 0.885 0.902 0.951 0.967 0.984]\n"
     ]
    }
   ],
   "source": [
    "from sklearn.metrics import roc_curve\n",
    "\n",
    "# 레이블 값이 1일 때의 예측 확률을 추출\n",
    "pred_proba_class1 = lr_clf.predict_proba(X_test)[:,1]\n",
    "\n",
    "fprs, tprs, thresholds = roc_curve(y_test, pred_proba_class1)\n",
    "# 반환된 임계값 배열 로우가 47건이므로 샘플로 10건만 추출하되, 임계값을 5 Step으로 추출\n",
    "thr_index = np.arange(0, thresholds.shape[0], 5)\n",
    "print('샘플 추출을 위한 임계값 배열의 index 10개: ',thr_index)\n",
    "print('샘플용 10개의 임계값: ',np.round(thresholds[thr_index],2))\n",
    "\n",
    "# 5 step 단위로 추출된 임계값에 따르 FPR, TPR 값\n",
    "print('샘플 임계값별 FPR: ',np.round(fprs[thr_index],3))\n",
    "print('샘플 임계값별 TPR: ',np.round(tprs[thr_index],3))"
   ]
  },
  {
   "cell_type": "markdown",
   "metadata": {},
   "source": [
    "- 임계값이 1에 가까운 값에서 점점 작아지면서 FPR이 점점 커진다.  \n",
    "- FPR이 조금씩 커질 때 TPR은 가파르게 커진다.  "
   ]
  },
  {
   "cell_type": "code",
   "execution_count": 35,
   "metadata": {},
   "outputs": [
    {
     "data": {
      "image/png": "[encoded data removed]",
      "text/plain": [
       "<Figure size 432x288 with 1 Axes>"
      ]
     },
     "metadata": {
      "needs_background": "light"
     },
     "output_type": "display_data"
    }
   ],
   "source": [
    "# FPR의 변화에 따른 TPR의 변화를 ROC 곡선으로 시각화\n",
    "\n",
    "def roc_curve_plot(y_test, pred_proba_c1):\n",
    "    # 임계값에 따른 FPR, TPR 값을 반환받음\n",
    "    fprs, tprs, thresholds = roc_curve(y_test, pred_proba_c1)\n",
    "    # ROC 곡선을 그래프 곡선으로 그림\n",
    "    plt.plot(fprs, tprs, label='ROC')\n",
    "    # 가운데 대각선 직선을 그림\n",
    "    plt.plot([0,1],[0,1],'k--',label='Random') # k : 검은색, -- : 점선\n",
    "    \n",
    "    # FPR x축의 Scale을 0.1 단위로 변경, X,Y축 명 설정 등\n",
    "    start, end = plt.xlim() # 현재 좌표축 또는 차트의 x축 제한을 설정\n",
    "    plt.xticks(np.round(np.arange(start, end, 0.1),2)) # xticks() : x축에 눈금을 표시\n",
    "    plt.xlim(0,1); plt.ylim(0,1)\n",
    "    plt.xlabel('FPR(1 - Sensitivity)'); plt.ylabel('TPR(Recall )')\n",
    "    plt.legend()\n",
    "    \n",
    "roc_curve_plot(y_test, pred_proba[:,1])"
   ]
  },
  {
   "cell_type": "markdown",
   "metadata": {},
   "source": [
    "일반적으로 ROC 곡선 자체는 FPR과 TPR의 변화 값을 보는 데 이용하며 분류의 성능 지표로 사용되는 것은 ROC 곡선 면적에 기반한 AUC 값으로 결정한다. AUC(Area Under Curve) 값은 ROC 곡선 밑의 면적을 구한 것으로서 일반적으로 1에 가까울수록 좋은 수치이다. AUC 수치가 커지려면 FRP이 작은 상태에서 얼마나 큰 TPR을 얻을 수 있느냐가 관건이다. 가운데 직선에서 멀어지고 왼쪽 상단 모서리 쪽으로 가파르게 곡선이 이동할수록 직사각형에 가까운 곡선이 되어 면적이 1에 가까워지는 좋은 ROC AUC 성능 수치를 얻게 된다. 가운데 대각선 직선은 랜덤 수준의 이진 분류 AUC 값으로 0.5이다. 따라서 보통의 분류는 0.5 이상의 AUC 값을 가진다. "
   ]
  },
  {
   "cell_type": "code",
   "execution_count": 36,
   "metadata": {},
   "outputs": [
    {
     "name": "stdout",
     "output_type": "stream",
     "text": [
      "ROC AUC 값: 0.8429\n"
     ]
    }
   ],
   "source": [
    "from sklearn.metrics import roc_auc_score\n",
    "\n",
    "pred = lr_clf.predict(X_test)\n",
    "roc_score = roc_auc_score(y_test, pred)\n",
    "print('ROC AUC 값: {0:.4f}'.format(roc_score))"
   ]
  },
  {
   "cell_type": "code",
   "execution_count": null,
   "metadata": {},
   "outputs": [],
   "source": []
  }
 ],
 "metadata": {
  "kernelspec": {
   "display_name": "Python 3",
   "language": "python",
   "name": "python3"
  },
  "language_info": {
   "codemirror_mode": {
    "name": "ipython",
    "version": 3
   },
   "file_extension": ".py",
   "mimetype": "text/x-python",
   "name": "python",
   "nbconvert_exporter": "python",
   "pygments_lexer": "ipython3",
   "version": "3.7.3"
  }
 },
 "nbformat": 4,
 "nbformat_minor": 2
}

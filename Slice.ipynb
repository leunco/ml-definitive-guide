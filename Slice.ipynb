{
 "cells": [
  {
   "cell_type": "markdown",
   "metadata": {},
   "source": [
    "## Slice  \n",
    "[출처](https://hashcode.co.kr/questions/74/%ED%8C%8C%EC%9D%B4%EC%8D%AC-slice-notation-%EC%93%B0%EB%8A%94%EA%B1%B0%EC%A2%80-%EC%95%8C%EB%A0%A4%EC%A3%BC%EC%84%B8%EC%9A%94)"
   ]
  },
  {
   "cell_type": "markdown",
   "metadata": {},
   "source": [
    "slice는 start:stop[:step]의 형식으로 쓸 수 있다. 여기서 [:step]은 써도 되고 안써도 된다는 의미이다.\n",
    "\n",
    "\n",
    "step을 명시하지 않을 경우에는\n",
    "- a[start:end] # start부터 end-1까지의 item\n",
    "- a[start:] # start부터 리스트 끝까지 item\n",
    "- a[:end] # 처음부터 end-1까지의 item\n",
    "- a[:] # 리스트의 모든 item\n",
    "\n",
    "\n",
    "step value를 쓰는 경우에는\n",
    "\n",
    "- a[start:end:step]# start부터 end-1까지 step만큼 인덱스 증가시키면서\n",
    "step을 지정할 때 :end에 유의해야한다. end는 end부터 포함시키지 않겠다는 의미이지 end가 꼭 포함된다는 의미는 아니다.\n",
    "\n",
    "또 start나 end가 음수가 음수인 경우에는 리스트의 끝에서부터 카운트하겠다는 의미이다.\n",
    "- a[-1] # 맨 뒤의 item  \n",
    "- a[-2:] # 맨 뒤에서부터 item2개   \n",
    "- a[:-n] # 맨 뒤의 item n개 빼고 전부  "
   ]
  },
  {
   "cell_type": "code",
   "execution_count": 1,
   "metadata": {},
   "outputs": [],
   "source": [
    "a = [10,11,12,13,14,15,16,17,18,19]"
   ]
  },
  {
   "cell_type": "code",
   "execution_count": 2,
   "metadata": {},
   "outputs": [
    {
     "name": "stdout",
     "output_type": "stream",
     "text": [
      "[10, 11, 12, 13, 14, 15, 16, 17]\n"
     ]
    }
   ],
   "source": [
    "print(a[:-2])"
   ]
  },
  {
   "cell_type": "code",
   "execution_count": 3,
   "metadata": {},
   "outputs": [
    {
     "name": "stdout",
     "output_type": "stream",
     "text": [
      "19\n"
     ]
    }
   ],
   "source": [
    "print(a[-1])"
   ]
  },
  {
   "cell_type": "code",
   "execution_count": 5,
   "metadata": {},
   "outputs": [
    {
     "name": "stdout",
     "output_type": "stream",
     "text": [
      "[10, 11, 12, 13, 14]\n"
     ]
    }
   ],
   "source": [
    "print(a[0:5])"
   ]
  }
 ],
 "metadata": {
  "kernelspec": {
   "display_name": "Python 3",
   "language": "python",
   "name": "python3"
  },
  "language_info": {
   "codemirror_mode": {
    "name": "ipython",
    "version": 3
   },
   "file_extension": ".py",
   "mimetype": "text/x-python",
   "name": "python",
   "nbconvert_exporter": "python",
   "pygments_lexer": "ipython3",
   "version": "3.7.3"
  }
 },
 "nbformat": 4,
 "nbformat_minor": 2
}
